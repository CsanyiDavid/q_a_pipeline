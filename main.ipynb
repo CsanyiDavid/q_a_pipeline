{
 "cells": [
  {
   "cell_type": "markdown",
   "metadata": {},
   "source": [
    "# Download dataset"
   ]
  },
  {
   "cell_type": "code",
   "execution_count": 1,
   "metadata": {},
   "outputs": [],
   "source": [
    "import datasets\n",
    "import os\n",
    "import numpy as np\n",
    "import scipy\n",
    "import matplotlib.pyplot as plt\n",
    "from tqdm import tqdm"
   ]
  },
  {
   "cell_type": "code",
   "execution_count": 2,
   "metadata": {},
   "outputs": [
    {
     "data": {
      "application/vnd.jupyter.widget-view+json": {
       "model_id": "93fe49d7376e4984b68d5c7773bf61bf",
       "version_major": 2,
       "version_minor": 0
      },
      "text/plain": [
       "Loading dataset from disk:   0%|          | 0/41 [00:00<?, ?it/s]"
      ]
     },
     "metadata": {},
     "output_type": "display_data"
    },
    {
     "name": "stdout",
     "output_type": "stream",
     "text": [
      "Dataset({\n",
      "    features: ['id', 'url', 'title', 'text'],\n",
      "    num_rows: 6458670\n",
      "})\n"
     ]
    }
   ],
   "source": [
    "if os.path.exists(\"wikipedia_dataset\"):\n",
    "    dataset = datasets.load_from_disk(\"wikipedia_dataset\")\n",
    "else:\n",
    "    dataset = datasets.load_dataset(\"wikipedia\", \"20220301.en\")\n",
    "    dataset.save_to_disk(\"wikipedia_dataset\")\n",
    "\n",
    "dataset = dataset[\"train\"]\n",
    "print(dataset)"
   ]
  },
  {
   "cell_type": "code",
   "execution_count": null,
   "metadata": {},
   "outputs": [],
   "source": [
    "\n",
    "text_lengths = [len(dataset[i][\"text\"]) for i in tqdm(range(0, len(dataset)))]\n",
    "text_lengths = np.array(text_lengths)\n",
    "scipy.stats.describe(text_lengths)"
   ]
  },
  {
   "cell_type": "code",
   "execution_count": 37,
   "metadata": {},
   "outputs": [
    {
     "data": {
      "image/png": "[encoded data removed]",
      "text/plain": [
       "<Figure size 640x480 with 1 Axes>"
      ]
     },
     "metadata": {},
     "output_type": "display_data"
    }
   ],
   "source": [
    "plt.hist(text_lengths, bins=100)\n",
    "plt.yscale('log')\n",
    "plt.title(\"Distribution of the article lengths\")\n",
    "plt.show()"
   ]
  },
  {
   "cell_type": "markdown",
   "metadata": {},
   "source": [
    "# Split document"
   ]
  },
  {
   "cell_type": "code",
   "execution_count": 3,
   "metadata": {},
   "outputs": [],
   "source": [
    "import langchain\n",
    "from langchain_core.documents import Document\n",
    "from langchain_text_splitters import RecursiveCharacterTextSplitter\n",
    "from langchain_text_splitters import TokenTextSplitter\n",
    "from langchain_community.document_loaders  import HuggingFaceDatasetLoader"
   ]
  },
  {
   "cell_type": "code",
   "execution_count": 5,
   "metadata": {},
   "outputs": [],
   "source": [
    "small_dataset = dataset.select(range(0, 100000))"
   ]
  },
  {
   "cell_type": "code",
   "execution_count": 6,
   "metadata": {},
   "outputs": [
    {
     "name": "stderr",
     "output_type": "stream",
     "text": [
      "100%|██████████| 100000/100000 [00:26<00:00, 3760.31it/s]\n"
     ]
    }
   ],
   "source": [
    "#Convert HuggingFace dataset to LangChain document\n",
    "documents = [\n",
    "    Document(page_content=doc[\"text\"], metadata={\"id\": doc[\"id\"], \"url\": doc[\"url\"], \"title\": doc[\"title\"]}) for doc in tqdm(\n",
    "        small_dataset)\n",
    "]"
   ]
  },
  {
   "cell_type": "code",
   "execution_count": 8,
   "metadata": {},
   "outputs": [
    {
     "name": "stderr",
     "output_type": "stream",
     "text": [
      "Splitting Documents: 100%|██████████| 100000/100000 [05:53<00:00, 282.62doc/s]\n"
     ]
    }
   ],
   "source": [
    "text_splitter = TokenTextSplitter(chunk_size=200, chunk_overlap=25, add_start_index=True)\n",
    "\n",
    "all_splits = []\n",
    "for document in tqdm(documents, desc=\"Splitting Documents\", unit=\"doc\"):\n",
    "    splits = text_splitter.split_documents([document])\n",
    "    all_splits.extend(splits)"
   ]
  },
  {
   "cell_type": "code",
   "execution_count": 20,
   "metadata": {},
   "outputs": [
    {
     "name": "stdout",
     "output_type": "stream",
     "text": [
      "1615761\n"
     ]
    }
   ],
   "source": [
    "print(len(all_splits))"
   ]
  },
  {
   "cell_type": "markdown",
   "metadata": {},
   "source": [
    "# Vector database"
   ]
  },
  {
   "cell_type": "code",
   "execution_count": 9,
   "metadata": {},
   "outputs": [],
   "source": [
    "from langchain_community.embeddings import FakeEmbeddings\n",
    "from langchain_milvus import Milvus\n",
    "\n",
    "from langchain_qdrant import QdrantVectorStore\n",
    "from qdrant_client import QdrantClient\n",
    "from qdrant_client.http.models import Distance, VectorParams"
   ]
  },
  {
   "cell_type": "code",
   "execution_count": 10,
   "metadata": {},
   "outputs": [],
   "source": [
    "embeddings = FakeEmbeddings(size=256)"
   ]
  },
  {
   "cell_type": "code",
   "execution_count": 30,
   "metadata": {},
   "outputs": [
    {
     "data": {
      "text/plain": [
       "True"
      ]
     },
     "execution_count": 30,
     "metadata": {},
     "output_type": "execute_result"
    }
   ],
   "source": [
    "client = QdrantClient(path=\"./qdrant_database2\")\n",
    "\n",
    "client.create_collection(\n",
    "    collection_name=\"collection_1\",\n",
    "    vectors_config=VectorParams(size=256, distance=Distance.COSINE),\n",
    ")"
   ]
  },
  {
   "cell_type": "code",
   "execution_count": 31,
   "metadata": {},
   "outputs": [],
   "source": [
    "vector_store = QdrantVectorStore(\n",
    "    client=client,\n",
    "    collection_name=\"collection_1\",\n",
    "    embedding=embeddings,\n",
    ")"
   ]
  },
  {
   "cell_type": "code",
   "execution_count": 32,
   "metadata": {},
   "outputs": [
    {
     "name": "stderr",
     "output_type": "stream",
     "text": [
      "100%|██████████| 10000/10000 [01:04<00:00, 154.38it/s]\n"
     ]
    }
   ],
   "source": [
    "for doc in tqdm(all_splits[:10000]):\n",
    "    vector_store.add_documents([doc])"
   ]
  },
  {
   "cell_type": "code",
   "execution_count": 33,
   "metadata": {},
   "outputs": [
    {
     "name": "stdout",
     "output_type": "stream",
     "text": [
      "[Document(metadata={'id': '305', 'url': 'https://en.wikipedia.org/wiki/Achilles', 'title': 'Achilles', 'start_index': 7832, '_id': 'f412fdec782e4b70895e890fe506875e', '_collection_name': 'collection_1'}, page_content='footed\", due to the wings of Arke being attached to his feet.\\n\\nHidden on Skyros \\n\\nSome post-Homeric sources claim that in order to keep Achilles safe from the war, Thetis (or, in some versions, Peleus) hid the young man at the court of Lycomedes, king of Skyros.\\n\\nThere, Achilles was disguised as a girl and lived among Lycomedes\\' daughters, perhaps under the name \"Pyrrha\" (the red-haired girl), Cercysera or Aissa (\"swift\"). With Lycomedes\\' daughter Deidamia, whom in the account of Statius he raped, Achilles there fathered two sons, Neoptolemus (also called Pyrrhus, after his father\\'s possible alias) and Oneiros. According to this story, Odysseus learned from the prophet Calchas that the Achaeans would be unable to capture Troy without Achilles\\''), Document(metadata={'id': '736', 'url': 'https://en.wikipedia.org/wiki/Albert%20Einstein', 'title': 'Albert Einstein', 'start_index': 73362, '_id': '1ed0acfc6c414569b25d9ec084bf2847', '_collection_name': 'collection_1'}, page_content=\"\\n Einstein notation\\n The Einstein Theory of Relativity, an educational film\\n Frist Campus Center at Princeton University room 302 is associated with Einstein. (The center was once the Palmer Physical Laboratory.)\\n Heinrich Burkhardt\\n Bern Historical Museum (Einstein Museum)\\n History of gravitational theory\\n List of coupled cousins\\n List of German inventors and discoverers\\n Jewish Nobel laureates\\n List of peace activists\\n Relativity priority dispute\\n Sticky bead argument\\n\\nNotes\\n\\nReferences\\n\\nWorks cited\\n\\nFurther reading\\n\\n \\n \\n \\n \\n , or\\n\\nExternal links \\n\\n \\n \\n \\n \\n Einstein's Personal Correspondence: Religion, Politics, The Holocaust, and Philosophy Shapell Manuscript Foundation\\n Federal Bureau of Investigation file on Albert Einstein\\n Einstein and his love of music, Physics World\\n  including the Nobel Lecture 11 July 1923 Fundamental ideas and problems of the theory of relativity\\n Albert Einstein Archives Online (80,000+\")]\n"
     ]
    }
   ],
   "source": [
    "results = vector_store.similarity_search(\n",
    "    \"LangChain provides abstractions to make working with LLMs easy\", k=2\n",
    ")\n",
    "print(results)"
   ]
  },
  {
   "cell_type": "markdown",
   "metadata": {},
   "source": [
    "# LLM"
   ]
  },
  {
   "cell_type": "code",
   "execution_count": null,
   "metadata": {},
   "outputs": [],
   "source": []
  },
  {
   "cell_type": "markdown",
   "metadata": {},
   "source": [
    "# Resources\n",
    "\n",
    "* https://python.langchain.com/docs/tutorials/rag/\n",
    "* https://python.langchain.com/docs/integrations/vectorstores/qdrant/"
   ]
  },
  {
   "cell_type": "code",
   "execution_count": null,
   "metadata": {},
   "outputs": [],
   "source": []
  },
  {
   "cell_type": "markdown",
   "metadata": {},
   "source": []
  }
 ],
 "metadata": {
  "kernelspec": {
   "display_name": "venv",
   "language": "python",
   "name": "python3"
  },
  "language_info": {
   "codemirror_mode": {
    "name": "ipython",
    "version": 3
   },
   "file_extension": ".py",
   "mimetype": "text/x-python",
   "name": "python",
   "nbconvert_exporter": "python",
   "pygments_lexer": "ipython3",
   "version": "3.12.7"
  }
 },
 "nbformat": 4,
 "nbformat_minor": 2
}
